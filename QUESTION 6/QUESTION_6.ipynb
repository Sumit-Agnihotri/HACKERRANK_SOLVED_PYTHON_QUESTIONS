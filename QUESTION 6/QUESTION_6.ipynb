{
 "cells": [
  {
   "cell_type": "markdown",
   "metadata": {},
   "source": [
    "# Question 6: Given a year, determine whether it is a leap year. If it is a leap year, return the Boolean True, otherwise return False.\n",
    "#### 1:- The year can be evenly divided by 4, is a leap year, unless:\n",
    "#### 2:- The year can be evenly divided by 100, it is NOT a leap year, unless:\n",
    "#### 3:- The year is also evenly divisible by 400. Then it is a leap year."
   ]
  },
  {
   "cell_type": "code",
   "execution_count": null,
   "metadata": {},
   "outputs": [],
   "source": [
    "def is_leap(year):\n",
    "    if year % 400 == 0:\n",
    "        return True\n",
    "    if year % 100 == 0:\n",
    "        return False\n",
    "    if year % 4 == 0:\n",
    "        return True\n",
    "    return False\n",
    "\n",
    "year = int(input())\n",
    "print(is_leap(year))"
   ]
  }
 ],
 "metadata": {
  "language_info": {
   "name": "python"
  }
 },
 "nbformat": 4,
 "nbformat_minor": 2
}
