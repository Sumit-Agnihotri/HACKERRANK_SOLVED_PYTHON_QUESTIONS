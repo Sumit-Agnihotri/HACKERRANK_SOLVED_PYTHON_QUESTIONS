{
 "cells": [
  {
   "cell_type": "markdown",
   "metadata": {},
   "source": [
    "# Question 2-: The provided code stub reads two integers from STDIN, a and b. Add code to print three lines where:\n",
    "\n",
    "### a-> The first line contains the sum of the two numbers.\n",
    "### b-> The second line contains the difference of the two numbers (first - second).\n",
    "### c-> The third line contains the product of the two numbers."
   ]
  },
  {
   "cell_type": "markdown",
   "metadata": {},
   "source": [
    "#### Given Values:-\n",
    "a=3\n",
    "b=5"
   ]
  },
  {
   "cell_type": "code",
   "execution_count": 3,
   "metadata": {},
   "outputs": [
    {
     "name": "stdout",
     "output_type": "stream",
     "text": [
      "First Line. The sum of given values 3 and 5 is 8\n",
      "First Line. The difference of given values 3 and 5 is -2\n",
      "First Line. The multiplication of given values 3 and 5 is 15\n"
     ]
    }
   ],
   "source": [
    "a = 3\n",
    "b = 5\n",
    "print(\"First Line. The sum of given values\", a, \"and\", b, \"is\", a + b)\n",
    "print(\"First Line. The difference of given values\", a, \"and\", b, \"is\", a - b)\n",
    "print(\"First Line. The multiplication of given values\", a, \"and\", b, \"is\", a * b)"
   ]
  }
 ],
 "metadata": {
  "kernelspec": {
   "display_name": "Python 3",
   "language": "python",
   "name": "python3"
  },
  "language_info": {
   "codemirror_mode": {
    "name": "ipython",
    "version": 3
   },
   "file_extension": ".py",
   "mimetype": "text/x-python",
   "name": "python",
   "nbconvert_exporter": "python",
   "pygments_lexer": "ipython3",
   "version": "3.12.4"
  }
 },
 "nbformat": 4,
 "nbformat_minor": 2
}
