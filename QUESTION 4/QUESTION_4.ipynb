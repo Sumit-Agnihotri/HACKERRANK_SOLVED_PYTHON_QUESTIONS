{
 "cells": [
  {
   "cell_type": "markdown",
   "metadata": {},
   "source": [
    "# Question 4 Given an integer \"n\" perform the following conditional actions:\n",
    "### 1:- If n is odd, print Weird\n",
    "### 2:- If n is even and in the inclusive range of 2 to 5, print Not Weird\n",
    "### 3:- If n is even and in the inclusive range of 6 to 20, print Weird\n",
    "### 4:- If n is even and greater than 20, print Not Weird"
   ]
  },
  {
   "cell_type": "code",
   "execution_count": null,
   "metadata": {},
   "outputs": [],
   "source": []
  }
 ],
 "metadata": {
  "language_info": {
   "name": "python"
  }
 },
 "nbformat": 4,
 "nbformat_minor": 2
}
